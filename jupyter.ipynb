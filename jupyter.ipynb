{
 "cells": [
  {
   "cell_type": "markdown",
   "metadata": {},
   "source": [
    "Thanks to this notebook you can run training of the model quite interactively - it means that you can see plots updated live with every step of training.\n",
    "\n",
    "After the training, plot with missclassified examples and ROC are also plotted."
   ]
  },
  {
   "cell_type": "code",
   "execution_count": null,
   "metadata": {
    "scrolled": true
   },
   "outputs": [],
   "source": [
    "%load_ext autoreload\n",
    "%autoreload 2"
   ]
  },
  {
   "cell_type": "code",
   "execution_count": null,
   "metadata": {
    "colab": {
     "base_uri": "https://localhost:8080/",
     "height": 316
    },
    "colab_type": "code",
    "id": "tsSDqx4XskDp",
    "outputId": "7bfb2d6c-d81f-4324-c686-7590d5743b8f",
    "scrolled": false
   },
   "outputs": [],
   "source": [
    "import logging\n",
    "\n",
    "%matplotlib notebook\n",
    "import matplotlib.pyplot as plt\n",
    "\n",
    "from utils import setup_logger\n",
    "from run import train\n",
    "\n",
    "plt.style.use('seaborn-pastel')\n",
    "\n",
    "setup_logger()\n",
    "\n",
    "# Run following line if you don't want information from logger being printed\n",
    "#setup_logger(logging.NOTSET)\n",
    "\n",
    "# Run following line if you want the training process to be most verbose\n",
    "#setup_logger(logging.DEBUG)"
   ]
  },
  {
   "cell_type": "code",
   "execution_count": null,
   "metadata": {
    "scrolled": false
   },
   "outputs": [],
   "source": [
    "args = {\n",
    "    \"data_dir\": \"data/\",\n",
    "    \"batch_size\": 1024,\n",
    "    \"neurons_in_hidden_blocks\": [512, 512],\n",
    "    \"weight_decay_lambda\": 0.2,\n",
    "    \"learning_rate\": 0.001,\n",
    "    \"epochs\": 15,\n",
    "    \"dropout_keep_prob\": 0.6,\n",
    "    \"train_with_validation\": True,\n",
    "    \"plot_graphs\": True\n",
    "}\n",
    "\n",
    "train(args)"
   ]
  }
 ],
 "metadata": {
  "accelerator": "GPU",
  "colab": {
   "name": "Google_Colab.ipynb",
   "provenance": [],
   "version": "0.3.2"
  },
  "kernelspec": {
   "display_name": "Python 3",
   "language": "python",
   "name": "python3"
  },
  "language_info": {
   "codemirror_mode": {
    "name": "ipython",
    "version": 3
   },
   "file_extension": ".py",
   "mimetype": "text/x-python",
   "name": "python",
   "nbconvert_exporter": "python",
   "pygments_lexer": "ipython3",
   "version": "3.6.5"
  }
 },
 "nbformat": 4,
 "nbformat_minor": 1
}
